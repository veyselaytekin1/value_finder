{
 "cells": [
  {
   "cell_type": "markdown",
   "metadata": {},
   "source": [
    "# Ebay webscraping"
   ]
  },
  {
   "cell_type": "code",
   "execution_count": 1,
   "metadata": {},
   "outputs": [],
   "source": [
    "import pandas as pd\n",
    "import requests    # for making standart html requests\n",
    "from bs4 import BeautifulSoup # magical tool for parsing html data"
   ]
  },
  {
   "cell_type": "code",
   "execution_count": null,
   "metadata": {},
   "outputs": [],
   "source": [
    "aditem-main--middle--price-shipping--price\n",
    "aditem-main--middle--price-shipping--price"
   ]
  },
  {
   "cell_type": "code",
   "execution_count": 22,
   "metadata": {},
   "outputs": [],
   "source": []
  },
  {
   "cell_type": "code",
   "execution_count": 24,
   "metadata": {},
   "outputs": [
    {
     "name": "stdout",
     "output_type": "stream",
     "text": [
      "725 €\n"
     ]
    }
   ],
   "source": [
    "def get_car_info(url):\n",
    "    page = requests.get(url) # sayfanin icerigini aliyoruz\n",
    "    page = BeautifulSoup(page.text, 'html.parser') # bu icerigi parcaliyoruz\n",
    "    house_rent = page.find(class_ = \"boxedarticle--price\") # cekmek istedigin bilginin oldugu yer\n",
    "    house_rent = house_rent.text.strip() # tek bilgi ise, etrafindaki seylerden kurtuluyoruz, ama coklu gelenlerde galiba liste yapisinda geliyorsa, hata verdiaz önce\n",
    "    print(house_rent)\n",
    "\n",
    "get_car_info(url)"
   ]
  },
  {
   "cell_type": "code",
   "execution_count": 38,
   "metadata": {},
   "outputs": [
    {
     "data": {
      "text/plain": [
       "'725 €'"
      ]
     },
     "execution_count": 38,
     "metadata": {},
     "output_type": "execute_result"
    }
   ],
   "source": [
    "url = \"https://www.kleinanzeigen.de/s-anzeige/erstbezug-ab-sofort-donau-side-modernes-studenten-apartment-mit-fitnessstudio-co-working/2732860091-203-7613\"\n",
    "page = requests.get(url) # sayfanin icerigini aliyoruz\n",
    "page = BeautifulSoup(page.text, 'html.parser') # bu icerigi parcaliyoruz\n",
    "house_rent = page.find(class_ = \"boxedarticle--price\")\n",
    "house_rent = house_rent.text.strip()\n",
    "house_rent"
   ]
  },
  {
   "cell_type": "code",
   "execution_count": 40,
   "metadata": {},
   "outputs": [
    {
     "data": {
      "text/plain": [
       "<ul class=\"addetailslist\">\n",
       "<div class=\"addetailslist--split\">\n",
       "<li class=\"addetailslist--detail\">\n",
       "                                            Wohnfläche<span class=\"addetailslist--detail--value\">\n",
       "                                        38 m²</span>\n",
       "</li>\n",
       "<li class=\"addetailslist--detail\">\n",
       "                                            Zimmer<span class=\"addetailslist--detail--value\">\n",
       "                                        1</span>\n",
       "</li>\n",
       "<li class=\"addetailslist--detail\">\n",
       "                                            Verfügbar ab<span class=\"addetailslist--detail--value\">\n",
       "                                        März 2024</span>\n",
       "</li>\n",
       "<li class=\"addetailslist--detail\">\n",
       "                                            Online-Besichtigung<span class=\"addetailslist--detail--value\">\n",
       "                                        Möglich</span>\n",
       "</li>\n",
       "<li class=\"addetailslist--detail\">\n",
       "                                            Tauschangebot<span class=\"addetailslist--detail--value\">\n",
       "                                        Kein Tausch</span>\n",
       "</li>\n",
       "</div>\n",
       "<div class=\"addetailslist--split\">\n",
       "<li class=\"addetailslist--detail\">\n",
       "                                            Nebenkosten<span class=\"addetailslist--detail--value\">\n",
       "                                        255 €</span>\n",
       "</li>\n",
       "<li class=\"addetailslist--detail\">\n",
       "                                            Warmmiete<span class=\"addetailslist--detail--value\">\n",
       "                                        980 €</span>\n",
       "</li>\n",
       "</div>\n",
       "</ul>"
      ]
     },
     "execution_count": 40,
     "metadata": {},
     "output_type": "execute_result"
    }
   ],
   "source": [
    "url = \"https://www.kleinanzeigen.de/s-anzeige/erstbezug-ab-sofort-donau-side-modernes-studenten-apartment-mit-fitnessstudio-co-working/2732860091-203-7613\"\n",
    "page = requests.get(url) # sayfanin icerigini aliyoruz\n",
    "page = BeautifulSoup(page.text, 'html.parser') # bu icerigi parcaliyoruz\n",
    "house_features = page.find(class_ = \"addetailslist\")\n",
    "house_features"
   ]
  },
  {
   "cell_type": "code",
   "execution_count": 34,
   "metadata": {},
   "outputs": [
    {
     "name": "stdout",
     "output_type": "stream",
     "text": [
      "<ul class=\"addetailslist\">\n",
      "<div class=\"addetailslist--split\">\n",
      "<li class=\"addetailslist--detail\">\n",
      "                                            Wohnfläche<span class=\"addetailslist--detail--value\">\n",
      "                                        38 m²</span>\n",
      "</li>\n",
      "<li class=\"addetailslist--detail\">\n",
      "                                            Zimmer<span class=\"addetailslist--detail--value\">\n",
      "                                        1</span>\n",
      "</li>\n",
      "<li class=\"addetailslist--detail\">\n",
      "                                            Verfügbar ab<span class=\"addetailslist--detail--value\">\n",
      "                                        März 2024</span>\n",
      "</li>\n",
      "<li class=\"addetailslist--detail\">\n",
      "                                            Online-Besichtigung<span class=\"addetailslist--detail--value\">\n",
      "                                        Möglich</span>\n",
      "</li>\n",
      "<li class=\"addetailslist--detail\">\n",
      "                                            Tauschangebot<span class=\"addetailslist--detail--value\">\n",
      "                                        Kein Tausch</span>\n",
      "</li>\n",
      "</div>\n",
      "<div class=\"addetailslist--split\">\n",
      "<li class=\"addetailslist--detail\">\n",
      "                                            Nebenkosten<span class=\"addetailslist--detail--value\">\n",
      "                                        255 €</span>\n",
      "</li>\n",
      "<li class=\"addetailslist--detail\">\n",
      "                                            Warmmiete<span class=\"addetailslist--detail--value\">\n",
      "                                        980 €</span>\n",
      "</li>\n",
      "</div>\n",
      "</ul>\n"
     ]
    }
   ],
   "source": [
    "\n",
    "def get_car_info(url):\n",
    "    page = BeautifulSoup(page.text, 'html.parser') # bu icerigi parcaliyoruz\n",
    "    house_rent = page.find(class_ = \"boxedarticle--price\")\n",
    "    house_features = page.find(class_ = \"addetailslist\") # cekmek istedigin bilginin oldugu yer\n",
    "    # house_rent = house_rent.text.strip() # tek bilgi ise, etrafindaki seylerden kurtuluyoruz, ama coklu gelenlerde galiba liste yapisinda geliyorsa, hata verdiaz önce\n",
    "\n",
    "    for i in house_features:\n",
    "\n",
    "\n",
    "\n",
    "    for idx, i  in enumerate(house_features):\n",
    "\n",
    "        if (idx%2==0):\n",
    "            key = i.text.strip    \n",
    "    if (idx%2==0):\n",
    "          key = i.text.strip()\n",
    "    else:\n",
    "          val = i.text.strip()\n",
    "          arabaDic[key]=val\n",
    "      \n",
    "    print(idx, \" : \", i.text.strip())\n",
    "  print(arabaDic)\n",
    "    \n",
    "\n",
    "    \n",
    "\n",
    "\n",
    "get_car_info(url)"
   ]
  },
  {
   "cell_type": "code",
   "execution_count": 29,
   "metadata": {},
   "outputs": [
    {
     "data": {
      "text/plain": [
       "str"
      ]
     },
     "execution_count": 29,
     "metadata": {},
     "output_type": "execute_result"
    }
   ],
   "source": [
    "type()"
   ]
  },
  {
   "cell_type": "markdown",
   "metadata": {},
   "source": [
    "# Chatgpt ile"
   ]
  },
  {
   "cell_type": "code",
   "execution_count": 43,
   "metadata": {},
   "outputs": [
    {
     "name": "stdout",
     "output_type": "stream",
     "text": [
      "Detaylar listesi boş. Hiçbir veri çekilemedi.\n"
     ]
    }
   ],
   "source": [
    "import requests\n",
    "from bs4 import BeautifulSoup\n",
    "import csv\n",
    "\n",
    "def scrape_page(page_url):\n",
    "    response = requests.get(page_url)\n",
    "    soup = BeautifulSoup(response.content, 'html.parser')\n",
    "    return soup\n",
    "\n",
    "def get_listing_urls(base_url, soup):\n",
    "    listing_urls = []\n",
    "    listings = soup.select('.ad-listitem')\n",
    "    for listing in listings:\n",
    "        relative_url = listing.get('data-href')\n",
    "        if relative_url:\n",
    "            full_url = base_url + relative_url\n",
    "            listing_urls.append(full_url)\n",
    "    return listing_urls\n",
    "\n",
    "def get_listing_details(listing_url):\n",
    "    soup = scrape_page(listing_url)\n",
    "    details = {}\n",
    "    price_tag = soup.find(class_='boxedarticle--price')\n",
    "    if price_tag:\n",
    "        details['price'] = price_tag.text.strip()\n",
    "    features = soup.find_all(class_='addetailslist--detail')\n",
    "    for feature in features:\n",
    "        key = feature.find(class_='addetailslist--detail--label').text.strip()\n",
    "        value = feature.find(class_='addetailslist--detail--value').text.strip()\n",
    "        details[key] = value\n",
    "    return details\n",
    "\n",
    "def scrape_all_pages(base_url, start_page, end_page):\n",
    "    all_details = []\n",
    "    for page_num in range(start_page, end_page + 1):\n",
    "        page_url = f\"{base_url}/seite:{page_num}\"\n",
    "        soup = scrape_page(page_url)\n",
    "        listing_urls = get_listing_urls(base_url, soup)\n",
    "        for url in listing_urls:\n",
    "            details = get_listing_details(url)\n",
    "            all_details.append(details)\n",
    "            print(f\"Detaylar çekildi: {details}\")  # Debugging için eklenen print\n",
    "\n",
    "    if all_details:  # Boş liste kontrolü\n",
    "        with open('rent_listings.csv', 'w', newline='', encoding='utf-8') as file:\n",
    "            writer = csv.DictWriter(file, fieldnames=all_details[0].keys())\n",
    "            writer.writeheader()\n",
    "            for details in all_details:\n",
    "                writer.writerow(details)\n",
    "    else:\n",
    "        print(\"Detaylar listesi boş. Hiçbir veri çekilemedi.\")\n",
    "\n",
    "# Ana URL ve sayfa aralığı ayarları\n",
    "BASE_URL = 'https://www.kleinanzeigen.de'\n",
    "START_PAGE = 1\n",
    "END_PAGE = 5  # Örnek olarak 5 sayfa veri çekilecek\n",
    "\n",
    "scrape_all_pages(BASE_URL, START_PAGE, END_PAGE)"
   ]
  },
  {
   "cell_type": "code",
   "execution_count": null,
   "metadata": {},
   "outputs": [],
   "source": []
  },
  {
   "cell_type": "code",
   "execution_count": null,
   "metadata": {},
   "outputs": [],
   "source": []
  },
  {
   "cell_type": "code",
   "execution_count": null,
   "metadata": {},
   "outputs": [],
   "source": []
  },
  {
   "cell_type": "code",
   "execution_count": null,
   "metadata": {},
   "outputs": [],
   "source": []
  },
  {
   "cell_type": "code",
   "execution_count": null,
   "metadata": {},
   "outputs": [],
   "source": []
  },
  {
   "cell_type": "code",
   "execution_count": null,
   "metadata": {},
   "outputs": [],
   "source": []
  },
  {
   "cell_type": "code",
   "execution_count": null,
   "metadata": {},
   "outputs": [],
   "source": []
  },
  {
   "cell_type": "code",
   "execution_count": null,
   "metadata": {},
   "outputs": [],
   "source": []
  },
  {
   "cell_type": "code",
   "execution_count": null,
   "metadata": {},
   "outputs": [],
   "source": []
  },
  {
   "cell_type": "code",
   "execution_count": null,
   "metadata": {},
   "outputs": [],
   "source": []
  },
  {
   "cell_type": "code",
   "execution_count": null,
   "metadata": {},
   "outputs": [],
   "source": []
  },
  {
   "cell_type": "code",
   "execution_count": null,
   "metadata": {},
   "outputs": [],
   "source": []
  }
 ],
 "metadata": {
  "kernelspec": {
   "display_name": "Python 3.8.19 ('venv')",
   "language": "python",
   "name": "python3"
  },
  "language_info": {
   "codemirror_mode": {
    "name": "ipython",
    "version": 3
   },
   "file_extension": ".py",
   "mimetype": "text/x-python",
   "name": "python",
   "nbconvert_exporter": "python",
   "pygments_lexer": "ipython3",
   "version": "3.8.19"
  },
  "orig_nbformat": 4,
  "vscode": {
   "interpreter": {
    "hash": "1707e2a11e748d0db8d27b6ed4dcf0f142b7ddd87c451bd8f4efb955e3e3d619"
   }
  }
 },
 "nbformat": 4,
 "nbformat_minor": 2
}
