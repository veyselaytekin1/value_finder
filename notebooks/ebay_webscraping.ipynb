{
 "cells": [
  {
   "cell_type": "markdown",
   "metadata": {},
   "source": [
    "# Ebay webscraping"
   ]
  },
  {
   "cell_type": "code",
   "execution_count": 1,
   "metadata": {},
   "outputs": [],
   "source": [
    "import pandas as pd\n",
    "import requests\n",
    "from bs4 import BeautifulSoup"
   ]
  },
  {
   "cell_type": "code",
   "execution_count": 2,
   "metadata": {},
   "outputs": [],
   "source": [
    "from selenium import webdriver\n",
    "import time\n",
    "import pandas as pd"
   ]
  },
  {
   "cell_type": "code",
   "execution_count": 3,
   "metadata": {},
   "outputs": [],
   "source": [
    "# Bu hazır fonksyonumuz adından da anlaşılacağı üzere listeyi string türüne çeviriyor.\n",
    "def listToString(s):  \n",
    "    \n",
    "    # initialize an empty string \n",
    "    str1 = \" \" \n",
    "    \n",
    "    # return string   \n",
    "    return (str1.join(s)) \n"
   ]
  },
  {
   "cell_type": "code",
   "execution_count": null,
   "metadata": {},
   "outputs": [],
   "source": []
  },
  {
   "cell_type": "code",
   "execution_count": null,
   "metadata": {},
   "outputs": [],
   "source": []
  },
  {
   "cell_type": "code",
   "execution_count": null,
   "metadata": {},
   "outputs": [],
   "source": []
  },
  {
   "cell_type": "code",
   "execution_count": null,
   "metadata": {},
   "outputs": [],
   "source": []
  },
  {
   "cell_type": "code",
   "execution_count": null,
   "metadata": {},
   "outputs": [],
   "source": []
  },
  {
   "cell_type": "code",
   "execution_count": null,
   "metadata": {},
   "outputs": [],
   "source": []
  },
  {
   "cell_type": "code",
   "execution_count": null,
   "metadata": {},
   "outputs": [],
   "source": []
  },
  {
   "cell_type": "code",
   "execution_count": null,
   "metadata": {},
   "outputs": [],
   "source": []
  },
  {
   "cell_type": "code",
   "execution_count": null,
   "metadata": {},
   "outputs": [],
   "source": []
  },
  {
   "cell_type": "code",
   "execution_count": null,
   "metadata": {},
   "outputs": [],
   "source": []
  },
  {
   "cell_type": "code",
   "execution_count": null,
   "metadata": {},
   "outputs": [],
   "source": []
  },
  {
   "cell_type": "code",
   "execution_count": null,
   "metadata": {},
   "outputs": [],
   "source": []
  },
  {
   "cell_type": "code",
   "execution_count": null,
   "metadata": {},
   "outputs": [],
   "source": []
  },
  {
   "cell_type": "code",
   "execution_count": null,
   "metadata": {},
   "outputs": [],
   "source": []
  },
  {
   "cell_type": "code",
   "execution_count": 1,
   "metadata": {},
   "outputs": [
    {
     "ename": "NoSuchDriverException",
     "evalue": "Message: Unable to obtain driver for chrome; For documentation on this error, please visit: https://www.selenium.dev/documentation/webdriver/troubleshooting/errors/driver_location\n",
     "output_type": "error",
     "traceback": [
      "\u001b[0;31m---------------------------------------------------------------------------\u001b[0m",
      "\u001b[0;31mWebDriverException\u001b[0m                        Traceback (most recent call last)",
      "File \u001b[0;32m~/opt/anaconda3/envs/venv/lib/python3.8/site-packages/selenium/webdriver/common/driver_finder.py:67\u001b[0m, in \u001b[0;36mDriverFinder._binary_paths\u001b[0;34m(self)\u001b[0m\n\u001b[1;32m     66\u001b[0m \u001b[39melse\u001b[39;00m:\n\u001b[0;32m---> 67\u001b[0m     output \u001b[39m=\u001b[39m SeleniumManager()\u001b[39m.\u001b[39;49mbinary_paths(\u001b[39mself\u001b[39;49m\u001b[39m.\u001b[39;49m_to_args())\n\u001b[1;32m     68\u001b[0m     \u001b[39mif\u001b[39;00m Path(output[\u001b[39m\"\u001b[39m\u001b[39mdriver_path\u001b[39m\u001b[39m\"\u001b[39m])\u001b[39m.\u001b[39mis_file():\n",
      "File \u001b[0;32m~/opt/anaconda3/envs/venv/lib/python3.8/site-packages/selenium/webdriver/common/selenium_manager.py:45\u001b[0m, in \u001b[0;36mSeleniumManager.binary_paths\u001b[0;34m(self, args)\u001b[0m\n\u001b[1;32m     38\u001b[0m \u001b[39m\u001b[39m\u001b[39m\"\"\"Determines the locations of the requested assets.\u001b[39;00m\n\u001b[1;32m     39\u001b[0m \n\u001b[1;32m     40\u001b[0m \u001b[39m:Args:\u001b[39;00m\n\u001b[1;32m     41\u001b[0m \u001b[39m - args: the commands to send to the selenium manager binary.\u001b[39;00m\n\u001b[1;32m     42\u001b[0m \u001b[39m:Returns: dictionary of assets and their path\u001b[39;00m\n\u001b[1;32m     43\u001b[0m \u001b[39m\"\"\"\u001b[39;00m\n\u001b[0;32m---> 45\u001b[0m args \u001b[39m=\u001b[39m [\u001b[39mstr\u001b[39m(\u001b[39mself\u001b[39;49m\u001b[39m.\u001b[39;49m_get_binary())] \u001b[39m+\u001b[39m args\n\u001b[1;32m     46\u001b[0m \u001b[39mif\u001b[39;00m logger\u001b[39m.\u001b[39mgetEffectiveLevel() \u001b[39m==\u001b[39m logging\u001b[39m.\u001b[39mDEBUG:\n",
      "File \u001b[0;32m~/opt/anaconda3/envs/venv/lib/python3.8/site-packages/selenium/webdriver/common/selenium_manager.py:88\u001b[0m, in \u001b[0;36mSeleniumManager._get_binary\u001b[0;34m()\u001b[0m\n\u001b[1;32m     87\u001b[0m \u001b[39mif\u001b[39;00m \u001b[39mnot\u001b[39;00m path\u001b[39m.\u001b[39mis_file():\n\u001b[0;32m---> 88\u001b[0m     \u001b[39mraise\u001b[39;00m WebDriverException(\u001b[39mf\u001b[39m\u001b[39m\"\u001b[39m\u001b[39mUnable to obtain working Selenium Manager binary; \u001b[39m\u001b[39m{\u001b[39;00mpath\u001b[39m}\u001b[39;00m\u001b[39m\"\u001b[39m)\n\u001b[1;32m     90\u001b[0m logger\u001b[39m.\u001b[39mdebug(\u001b[39m\"\u001b[39m\u001b[39mSelenium Manager binary found at: \u001b[39m\u001b[39m%s\u001b[39;00m\u001b[39m\"\u001b[39m, path)\n",
      "\u001b[0;31mWebDriverException\u001b[0m: Message: Unable to obtain working Selenium Manager binary; /Users/veyselaytekin/opt/anaconda3/envs/venv/lib/python3.8/site-packages/selenium/webdriver/common/macos/selenium-manager\n",
      "\nThe above exception was the direct cause of the following exception:\n",
      "\u001b[0;31mNoSuchDriverException\u001b[0m                     Traceback (most recent call last)",
      "Cell \u001b[0;32mIn[1], line 8\u001b[0m\n\u001b[1;32m      3\u001b[0m \u001b[38;5;66;03m#driver_path = \"/Users/veyselaytekin/Desktop/byte/value_finder/chromedriver\"\u001b[39;00m\n\u001b[1;32m      4\u001b[0m \u001b[38;5;66;03m# Selenium WebDriver'ı başlat\u001b[39;00m\n\u001b[1;32m      7\u001b[0m driver_path \u001b[38;5;241m=\u001b[39m \u001b[38;5;124m\"\u001b[39m\u001b[38;5;124m/Users/veyselaytekin/Desktop/byte/value_finder/chromedriver\u001b[39m\u001b[38;5;124m\"\u001b[39m\n\u001b[0;32m----> 8\u001b[0m driver \u001b[38;5;241m=\u001b[39m \u001b[43mwebdriver\u001b[49m\u001b[38;5;241;43m.\u001b[39;49m\u001b[43mChrome\u001b[49m\u001b[43m(\u001b[49m\u001b[43m)\u001b[49m\n",
      "File \u001b[0;32m~/opt/anaconda3/envs/venv/lib/python3.8/site-packages/selenium/webdriver/chrome/webdriver.py:45\u001b[0m, in \u001b[0;36mWebDriver.__init__\u001b[0;34m(self, options, service, keep_alive)\u001b[0m\n\u001b[1;32m     42\u001b[0m service \u001b[39m=\u001b[39m service \u001b[39mif\u001b[39;00m service \u001b[39melse\u001b[39;00m Service()\n\u001b[1;32m     43\u001b[0m options \u001b[39m=\u001b[39m options \u001b[39mif\u001b[39;00m options \u001b[39melse\u001b[39;00m Options()\n\u001b[0;32m---> 45\u001b[0m \u001b[39msuper\u001b[39;49m()\u001b[39m.\u001b[39;49m\u001b[39m__init__\u001b[39;49m(\n\u001b[1;32m     46\u001b[0m     browser_name\u001b[39m=\u001b[39;49mDesiredCapabilities\u001b[39m.\u001b[39;49mCHROME[\u001b[39m\"\u001b[39;49m\u001b[39mbrowserName\u001b[39;49m\u001b[39m\"\u001b[39;49m],\n\u001b[1;32m     47\u001b[0m     vendor_prefix\u001b[39m=\u001b[39;49m\u001b[39m\"\u001b[39;49m\u001b[39mgoog\u001b[39;49m\u001b[39m\"\u001b[39;49m,\n\u001b[1;32m     48\u001b[0m     options\u001b[39m=\u001b[39;49moptions,\n\u001b[1;32m     49\u001b[0m     service\u001b[39m=\u001b[39;49mservice,\n\u001b[1;32m     50\u001b[0m     keep_alive\u001b[39m=\u001b[39;49mkeep_alive,\n\u001b[1;32m     51\u001b[0m )\n",
      "File \u001b[0;32m~/opt/anaconda3/envs/venv/lib/python3.8/site-packages/selenium/webdriver/chromium/webdriver.py:50\u001b[0m, in \u001b[0;36mChromiumDriver.__init__\u001b[0;34m(self, browser_name, vendor_prefix, options, service, keep_alive)\u001b[0m\n\u001b[1;32m     47\u001b[0m \u001b[39mself\u001b[39m\u001b[39m.\u001b[39mservice \u001b[39m=\u001b[39m service\n\u001b[1;32m     49\u001b[0m finder \u001b[39m=\u001b[39m DriverFinder(\u001b[39mself\u001b[39m\u001b[39m.\u001b[39mservice, options)\n\u001b[0;32m---> 50\u001b[0m \u001b[39mif\u001b[39;00m finder\u001b[39m.\u001b[39;49mget_browser_path():\n\u001b[1;32m     51\u001b[0m     options\u001b[39m.\u001b[39mbinary_location \u001b[39m=\u001b[39m finder\u001b[39m.\u001b[39mget_browser_path()\n\u001b[1;32m     52\u001b[0m     options\u001b[39m.\u001b[39mbrowser_version \u001b[39m=\u001b[39m \u001b[39mNone\u001b[39;00m\n",
      "File \u001b[0;32m~/opt/anaconda3/envs/venv/lib/python3.8/site-packages/selenium/webdriver/common/driver_finder.py:47\u001b[0m, in \u001b[0;36mDriverFinder.get_browser_path\u001b[0;34m(self)\u001b[0m\n\u001b[1;32m     46\u001b[0m \u001b[39mdef\u001b[39;00m \u001b[39mget_browser_path\u001b[39m(\u001b[39mself\u001b[39m) \u001b[39m-\u001b[39m\u001b[39m>\u001b[39m \u001b[39mstr\u001b[39m:\n\u001b[0;32m---> 47\u001b[0m     \u001b[39mreturn\u001b[39;00m \u001b[39mself\u001b[39;49m\u001b[39m.\u001b[39;49m_binary_paths()[\u001b[39m\"\u001b[39m\u001b[39mbrowser_path\u001b[39m\u001b[39m\"\u001b[39m]\n",
      "File \u001b[0;32m~/opt/anaconda3/envs/venv/lib/python3.8/site-packages/selenium/webdriver/common/driver_finder.py:78\u001b[0m, in \u001b[0;36mDriverFinder._binary_paths\u001b[0;34m(self)\u001b[0m\n\u001b[1;32m     76\u001b[0m \u001b[39mexcept\u001b[39;00m \u001b[39mException\u001b[39;00m \u001b[39mas\u001b[39;00m err:\n\u001b[1;32m     77\u001b[0m     msg \u001b[39m=\u001b[39m \u001b[39mf\u001b[39m\u001b[39m\"\u001b[39m\u001b[39mUnable to obtain driver for \u001b[39m\u001b[39m{\u001b[39;00mbrowser\u001b[39m}\u001b[39;00m\u001b[39m\"\u001b[39m\n\u001b[0;32m---> 78\u001b[0m     \u001b[39mraise\u001b[39;00m NoSuchDriverException(msg) \u001b[39mfrom\u001b[39;00m \u001b[39merr\u001b[39;00m\n\u001b[1;32m     79\u001b[0m \u001b[39mreturn\u001b[39;00m \u001b[39mself\u001b[39m\u001b[39m.\u001b[39m_paths\n",
      "\u001b[0;31mNoSuchDriverException\u001b[0m: Message: Unable to obtain driver for chrome; For documentation on this error, please visit: https://www.selenium.dev/documentation/webdriver/troubleshooting/errors/driver_location\n"
     ]
    }
   ],
   "source": [
    "from selenium import webdriver\n",
    "from bs4 import BeautifulSoup\n",
    "#driver_path = \"/Users/veyselaytekin/Desktop/byte/value_finder/chromedriver\"\n",
    "# Selenium WebDriver'ı başlat\n",
    "\n",
    "\n",
    "driver_path = \"/Users/veyselaytekin/Desktop/byte/value_finder/chromedriver\"\n",
    "driver = webdriver.Chrome()\n"
   ]
  },
  {
   "cell_type": "code",
   "execution_count": null,
   "metadata": {},
   "outputs": [],
   "source": []
  },
  {
   "cell_type": "code",
   "execution_count": 11,
   "metadata": {},
   "outputs": [
    {
     "ename": "NoSuchDriverException",
     "evalue": "Message: Unable to obtain driver for chrome; For documentation on this error, please visit: https://www.selenium.dev/documentation/webdriver/troubleshooting/errors/driver_location\n",
     "output_type": "error",
     "traceback": [
      "\u001b[0;31m---------------------------------------------------------------------------\u001b[0m",
      "\u001b[0;31mWebDriverException\u001b[0m                        Traceback (most recent call last)",
      "File \u001b[0;32m~/opt/anaconda3/envs/venv/lib/python3.8/site-packages/selenium/webdriver/common/driver_finder.py:67\u001b[0m, in \u001b[0;36mDriverFinder._binary_paths\u001b[0;34m(self)\u001b[0m\n\u001b[1;32m     66\u001b[0m \u001b[39melse\u001b[39;00m:\n\u001b[0;32m---> 67\u001b[0m     output \u001b[39m=\u001b[39m SeleniumManager()\u001b[39m.\u001b[39;49mbinary_paths(\u001b[39mself\u001b[39;49m\u001b[39m.\u001b[39;49m_to_args())\n\u001b[1;32m     68\u001b[0m     \u001b[39mif\u001b[39;00m Path(output[\u001b[39m\"\u001b[39m\u001b[39mdriver_path\u001b[39m\u001b[39m\"\u001b[39m])\u001b[39m.\u001b[39mis_file():\n",
      "File \u001b[0;32m~/opt/anaconda3/envs/venv/lib/python3.8/site-packages/selenium/webdriver/common/selenium_manager.py:45\u001b[0m, in \u001b[0;36mSeleniumManager.binary_paths\u001b[0;34m(self, args)\u001b[0m\n\u001b[1;32m     38\u001b[0m \u001b[39m\u001b[39m\u001b[39m\"\"\"Determines the locations of the requested assets.\u001b[39;00m\n\u001b[1;32m     39\u001b[0m \n\u001b[1;32m     40\u001b[0m \u001b[39m:Args:\u001b[39;00m\n\u001b[1;32m     41\u001b[0m \u001b[39m - args: the commands to send to the selenium manager binary.\u001b[39;00m\n\u001b[1;32m     42\u001b[0m \u001b[39m:Returns: dictionary of assets and their path\u001b[39;00m\n\u001b[1;32m     43\u001b[0m \u001b[39m\"\"\"\u001b[39;00m\n\u001b[0;32m---> 45\u001b[0m args \u001b[39m=\u001b[39m [\u001b[39mstr\u001b[39m(\u001b[39mself\u001b[39;49m\u001b[39m.\u001b[39;49m_get_binary())] \u001b[39m+\u001b[39m args\n\u001b[1;32m     46\u001b[0m \u001b[39mif\u001b[39;00m logger\u001b[39m.\u001b[39mgetEffectiveLevel() \u001b[39m==\u001b[39m logging\u001b[39m.\u001b[39mDEBUG:\n",
      "File \u001b[0;32m~/opt/anaconda3/envs/venv/lib/python3.8/site-packages/selenium/webdriver/common/selenium_manager.py:88\u001b[0m, in \u001b[0;36mSeleniumManager._get_binary\u001b[0;34m()\u001b[0m\n\u001b[1;32m     87\u001b[0m \u001b[39mif\u001b[39;00m \u001b[39mnot\u001b[39;00m path\u001b[39m.\u001b[39mis_file():\n\u001b[0;32m---> 88\u001b[0m     \u001b[39mraise\u001b[39;00m WebDriverException(\u001b[39mf\u001b[39m\u001b[39m\"\u001b[39m\u001b[39mUnable to obtain working Selenium Manager binary; \u001b[39m\u001b[39m{\u001b[39;00mpath\u001b[39m}\u001b[39;00m\u001b[39m\"\u001b[39m)\n\u001b[1;32m     90\u001b[0m logger\u001b[39m.\u001b[39mdebug(\u001b[39m\"\u001b[39m\u001b[39mSelenium Manager binary found at: \u001b[39m\u001b[39m%s\u001b[39;00m\u001b[39m\"\u001b[39m, path)\n",
      "\u001b[0;31mWebDriverException\u001b[0m: Message: Unable to obtain working Selenium Manager binary; /Users/veyselaytekin/opt/anaconda3/envs/venv/lib/python3.8/site-packages/selenium/webdriver/common/macos/selenium-manager\n",
      "\nThe above exception was the direct cause of the following exception:\n",
      "\u001b[0;31mNoSuchDriverException\u001b[0m                     Traceback (most recent call last)",
      "Cell \u001b[0;32mIn[11], line 8\u001b[0m\n\u001b[1;32m      3\u001b[0m \u001b[38;5;66;03m#driver_path = \"/Users/veyselaytekin/Desktop/byte/value_finder/chromedriver\"\u001b[39;00m\n\u001b[1;32m      4\u001b[0m \u001b[38;5;66;03m# Selenium WebDriver'ı başlat\u001b[39;00m\n\u001b[1;32m      7\u001b[0m driver_path \u001b[38;5;241m=\u001b[39m \u001b[38;5;124m\"\u001b[39m\u001b[38;5;124m/Users/veyselaytekin/Desktop/byte/value_finder/chromedriver\u001b[39m\u001b[38;5;124m\"\u001b[39m\n\u001b[0;32m----> 8\u001b[0m driver \u001b[38;5;241m=\u001b[39m \u001b[43mwebdriver\u001b[49m\u001b[38;5;241;43m.\u001b[39;49m\u001b[43mChrome\u001b[49m\u001b[43m(\u001b[49m\u001b[43m)\u001b[49m\n\u001b[1;32m     10\u001b[0m \u001b[38;5;66;03m# driver = webdriver.Chrome()  # Varsayılan olarak Chrome kullanılıyor, Chrome WebDriver indirilmiş olmalıdır.\u001b[39;00m\n\u001b[1;32m     11\u001b[0m \n\u001b[1;32m     12\u001b[0m \u001b[38;5;66;03m# Her sayfa için döngü oluştur\u001b[39;00m\n\u001b[1;32m     13\u001b[0m \u001b[38;5;28;01mfor\u001b[39;00m page_number \u001b[38;5;129;01min\u001b[39;00m \u001b[38;5;28mrange\u001b[39m(\u001b[38;5;241m1\u001b[39m, \u001b[38;5;241m7\u001b[39m):  \u001b[38;5;66;03m# 1'den 6'ya kadar (sayfa 6 dahil değil)\u001b[39;00m\n",
      "File \u001b[0;32m~/opt/anaconda3/envs/venv/lib/python3.8/site-packages/selenium/webdriver/chrome/webdriver.py:45\u001b[0m, in \u001b[0;36mWebDriver.__init__\u001b[0;34m(self, options, service, keep_alive)\u001b[0m\n\u001b[1;32m     42\u001b[0m service \u001b[39m=\u001b[39m service \u001b[39mif\u001b[39;00m service \u001b[39melse\u001b[39;00m Service()\n\u001b[1;32m     43\u001b[0m options \u001b[39m=\u001b[39m options \u001b[39mif\u001b[39;00m options \u001b[39melse\u001b[39;00m Options()\n\u001b[0;32m---> 45\u001b[0m \u001b[39msuper\u001b[39;49m()\u001b[39m.\u001b[39;49m\u001b[39m__init__\u001b[39;49m(\n\u001b[1;32m     46\u001b[0m     browser_name\u001b[39m=\u001b[39;49mDesiredCapabilities\u001b[39m.\u001b[39;49mCHROME[\u001b[39m\"\u001b[39;49m\u001b[39mbrowserName\u001b[39;49m\u001b[39m\"\u001b[39;49m],\n\u001b[1;32m     47\u001b[0m     vendor_prefix\u001b[39m=\u001b[39;49m\u001b[39m\"\u001b[39;49m\u001b[39mgoog\u001b[39;49m\u001b[39m\"\u001b[39;49m,\n\u001b[1;32m     48\u001b[0m     options\u001b[39m=\u001b[39;49moptions,\n\u001b[1;32m     49\u001b[0m     service\u001b[39m=\u001b[39;49mservice,\n\u001b[1;32m     50\u001b[0m     keep_alive\u001b[39m=\u001b[39;49mkeep_alive,\n\u001b[1;32m     51\u001b[0m )\n",
      "File \u001b[0;32m~/opt/anaconda3/envs/venv/lib/python3.8/site-packages/selenium/webdriver/chromium/webdriver.py:50\u001b[0m, in \u001b[0;36mChromiumDriver.__init__\u001b[0;34m(self, browser_name, vendor_prefix, options, service, keep_alive)\u001b[0m\n\u001b[1;32m     47\u001b[0m \u001b[39mself\u001b[39m\u001b[39m.\u001b[39mservice \u001b[39m=\u001b[39m service\n\u001b[1;32m     49\u001b[0m finder \u001b[39m=\u001b[39m DriverFinder(\u001b[39mself\u001b[39m\u001b[39m.\u001b[39mservice, options)\n\u001b[0;32m---> 50\u001b[0m \u001b[39mif\u001b[39;00m finder\u001b[39m.\u001b[39;49mget_browser_path():\n\u001b[1;32m     51\u001b[0m     options\u001b[39m.\u001b[39mbinary_location \u001b[39m=\u001b[39m finder\u001b[39m.\u001b[39mget_browser_path()\n\u001b[1;32m     52\u001b[0m     options\u001b[39m.\u001b[39mbrowser_version \u001b[39m=\u001b[39m \u001b[39mNone\u001b[39;00m\n",
      "File \u001b[0;32m~/opt/anaconda3/envs/venv/lib/python3.8/site-packages/selenium/webdriver/common/driver_finder.py:47\u001b[0m, in \u001b[0;36mDriverFinder.get_browser_path\u001b[0;34m(self)\u001b[0m\n\u001b[1;32m     46\u001b[0m \u001b[39mdef\u001b[39;00m \u001b[39mget_browser_path\u001b[39m(\u001b[39mself\u001b[39m) \u001b[39m-\u001b[39m\u001b[39m>\u001b[39m \u001b[39mstr\u001b[39m:\n\u001b[0;32m---> 47\u001b[0m     \u001b[39mreturn\u001b[39;00m \u001b[39mself\u001b[39;49m\u001b[39m.\u001b[39;49m_binary_paths()[\u001b[39m\"\u001b[39m\u001b[39mbrowser_path\u001b[39m\u001b[39m\"\u001b[39m]\n",
      "File \u001b[0;32m~/opt/anaconda3/envs/venv/lib/python3.8/site-packages/selenium/webdriver/common/driver_finder.py:78\u001b[0m, in \u001b[0;36mDriverFinder._binary_paths\u001b[0;34m(self)\u001b[0m\n\u001b[1;32m     76\u001b[0m \u001b[39mexcept\u001b[39;00m \u001b[39mException\u001b[39;00m \u001b[39mas\u001b[39;00m err:\n\u001b[1;32m     77\u001b[0m     msg \u001b[39m=\u001b[39m \u001b[39mf\u001b[39m\u001b[39m\"\u001b[39m\u001b[39mUnable to obtain driver for \u001b[39m\u001b[39m{\u001b[39;00mbrowser\u001b[39m}\u001b[39;00m\u001b[39m\"\u001b[39m\n\u001b[0;32m---> 78\u001b[0m     \u001b[39mraise\u001b[39;00m NoSuchDriverException(msg) \u001b[39mfrom\u001b[39;00m \u001b[39merr\u001b[39;00m\n\u001b[1;32m     79\u001b[0m \u001b[39mreturn\u001b[39;00m \u001b[39mself\u001b[39m\u001b[39m.\u001b[39m_paths\n",
      "\u001b[0;31mNoSuchDriverException\u001b[0m: Message: Unable to obtain driver for chrome; For documentation on this error, please visit: https://www.selenium.dev/documentation/webdriver/troubleshooting/errors/driver_location\n"
     ]
    }
   ],
   "source": [
    "from selenium import webdriver\n",
    "from bs4 import BeautifulSoup\n",
    "#driver_path = \"/Users/veyselaytekin/Desktop/byte/value_finder/chromedriver\"\n",
    "# Selenium WebDriver'ı başlat\n",
    "\n",
    "\n",
    "driver_path = \"/Users/veyselaytekin/Desktop/byte/value_finder/chromedriver\"\n",
    "driver = webdriver.Chrome()\n",
    "\n",
    "# driver = webdriver.Chrome()  # Varsayılan olarak Chrome kullanılıyor, Chrome WebDriver indirilmiş olmalıdır.\n",
    "\n",
    "# Her sayfa için döngü oluştur\n",
    "for page_number in range(1, 7):  # 1'den 6'ya kadar (sayfa 6 dahil değil)\n",
    "    url = f\"https://www.immobilienscout24.de/Suche/de/bayern/ingolstadt/wohnung-mieten?pagenumber={page_number}\"\n",
    "    driver.get(url)\n",
    "    soup = BeautifulSoup(driver.page_source, 'html.parser')\n",
    "\n",
    "    # Her ilanı bul\n",
    "    listings = soup.find_all(class_=\"result-list__listing\")\n",
    "\n",
    "    # Her ilan için döngü oluştur\n",
    "    for listing in listings:\n",
    "        # İlanın detay sayfasına gitmek için linki al\n",
    "        listing_link = listing.find(\"a\")[\"href\"]\n",
    "        \n",
    "        # İlan detaylarını görmek için detay sayfasına git\n",
    "        driver.get(listing_link)\n",
    "        listing_soup = BeautifulSoup(driver.page_source, 'html.parser')\n",
    "\n",
    "        # İlan detaylarına ulaş\n",
    "        criteria_group = listing_soup.find(class_=\"criteriagroup boolean-listing padding-top-l\")\n",
    "        criteria_group_two_columns = criteria_group.find(class_=\"criteriagroup criteria-group--two-columns\")\n",
    "        grid = criteria_group_two_columns.find(class_=\"grid\")\n",
    "\n",
    "        # İhtiyacınıza göre gerekli bilgileri alın\n",
    "        # Örneğin:\n",
    "        title = grid.find(class_=\"is24qa-objekt-titel\").text.strip()\n",
    "        price = grid.find(class_=\"is24qa-kaltmiete\").text.strip()\n",
    "        size = grid.find(class_=\"is24qa-wohnflaeche-ca\").text.strip()\n",
    "\n",
    "        # Alınan bilgileri yazdırabilir veya işleyebilirsiniz\n",
    "        print(\"Başlık:\", title)\n",
    "        print(\"Kira Bedeli:\", price)\n",
    "        print(\"Boyut:\", size)\n",
    "        print(\"\\n---\\n\")\n",
    "\n",
    "# WebDriver'ı kapat\n",
    "driver.quit()\n"
   ]
  },
  {
   "cell_type": "code",
   "execution_count": null,
   "metadata": {},
   "outputs": [],
   "source": []
  },
  {
   "cell_type": "code",
   "execution_count": null,
   "metadata": {},
   "outputs": [],
   "source": []
  },
  {
   "cell_type": "code",
   "execution_count": 21,
   "metadata": {},
   "outputs": [
    {
     "name": "stdout",
     "output_type": "stream",
     "text": [
      "None\n"
     ]
    }
   ],
   "source": [
    "#page_number = 1\n",
    "url = \"https://www.immobilienscout24.de/Suche/de/bayern/ingolstadt/wohnung-mieten?pagenumber=1\"\n",
    "#url = base_url + str(page_number)\n",
    "page = requests.get(url)\n",
    "page = BeautifulSoup(page.text, 'html.parser')\n",
    "price = page.find(class_ = \"result-list-entry__criteria\")\n",
    "print(price)\n",
    "\n"
   ]
  },
  {
   "cell_type": "code",
   "execution_count": 7,
   "metadata": {},
   "outputs": [
    {
     "name": "stdout",
     "output_type": "stream",
     "text": [
      "[]\n",
      "[]\n",
      "[]\n"
     ]
    }
   ],
   "source": [
    "base_url = \"https://www.immobilienscout24.de/Suche/de/bayern/ingolstadt/wohnung-mieten?pagenumber=\"\n",
    "\n",
    "# Her sayfa için döngü oluştur\n",
    "for page_number in range(1, 4):  # 1'den 6'ya kadar (sayfa 6 dahil değil)\n",
    "    url = base_url + str(page_number)\n",
    "    response = requests.get(url)\n",
    "    soup = BeautifulSoup(response.text, 'html.parser')\n",
    "\n",
    "    # Her ilanı bul\n",
    "    listings = soup.find_all(class_=\"result-list__listing \")\n",
    "    print(listings)"
   ]
  },
  {
   "cell_type": "code",
   "execution_count": 3,
   "metadata": {},
   "outputs": [],
   "source": [
    "base_url = \"https://www.immobilienscout24.de/Suche/de/bayern/ingolstadt/wohnung-mieten?pagenumber=\"\n",
    "\n",
    "# Her sayfa için döngü oluştur\n",
    "for page_number in range(1, 2):  # 1'den 6'ya kadar (sayfa 6 dahil değil)\n",
    "    url = base_url + str(page_number)\n",
    "    response = requests.get(url)\n",
    "    soup = BeautifulSoup(response.text, 'html.parser')\n",
    "\n",
    "    # Her ilanı bul\n",
    "    listings = soup.find_all(class_=\"result-list__listing\")\n",
    "\n",
    "    # Her ilan için döngü oluştur\n",
    "    for listing in listings:\n",
    "        # İlanın detay sayfasına gitmek için linki al\n",
    "        listing_link = listing.find(\"a\")[\"href\"]\n",
    "        listing_response = requests.get(listing_link)\n",
    "        listing_soup = BeautifulSoup(listing_response.text, 'html.parser')\n",
    "\n",
    "        # İlan detaylarına ulaş\n",
    "        criteria_group = listing_soup.find(class_=\"criteriagroup boolean-listing padding-top-l\")\n",
    "        criteria_group_two_columns = criteria_group.find(class_=\"criteriagroup criteria-group--two-columns\")\n",
    "        grid = criteria_group_two_columns.find(class_=\"grid\")\n",
    "\n",
    "        # İhtiyacınıza göre gerekli bilgileri alın\n",
    "        # Örneğin:\n",
    "        title = grid.find(class_=\"is24qa-objekt-titel\").text.strip()\n",
    "        price = grid.find(class_=\"is24qa-kaltmiete\").text.strip()\n",
    "        size = grid.find(class_=\"is24qa-wohnflaeche-ca\").text.strip()\n",
    "\n",
    "        # Alınan bilgileri yazdırabilir veya işleyebilirsiniz\n",
    "        print(\"Başlik:\", title)\n",
    "        print(\"Kira Bedeli:\", price)\n",
    "        print(\"Boyut:\", size)\n",
    "        print(\"\\n---\\n\")\n"
   ]
  },
  {
   "cell_type": "code",
   "execution_count": null,
   "metadata": {},
   "outputs": [],
   "source": []
  }
 ],
 "metadata": {
  "kernelspec": {
   "display_name": "Python 3.8.19 ('venv')",
   "language": "python",
   "name": "python3"
  },
  "language_info": {
   "codemirror_mode": {
    "name": "ipython",
    "version": 3
   },
   "file_extension": ".py",
   "mimetype": "text/x-python",
   "name": "python",
   "nbconvert_exporter": "python",
   "pygments_lexer": "ipython3",
   "version": "3.8.19"
  },
  "orig_nbformat": 4,
  "vscode": {
   "interpreter": {
    "hash": "1707e2a11e748d0db8d27b6ed4dcf0f142b7ddd87c451bd8f4efb955e3e3d619"
   }
  }
 },
 "nbformat": 4,
 "nbformat_minor": 2
}
